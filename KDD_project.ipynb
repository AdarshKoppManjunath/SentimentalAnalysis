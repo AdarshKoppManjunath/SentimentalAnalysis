{
  "nbformat": 4,
  "nbformat_minor": 0,
  "metadata": {
    "colab": {
      "name": "KDD-project.ipynb",
      "provenance": [],
      "collapsed_sections": []
    },
    "kernelspec": {
      "name": "python3",
      "display_name": "Python 3"
    }
  },
  "cells": [
    {
      "cell_type": "code",
      "metadata": {
        "id": "-DxyA2UubH1l",
        "colab_type": "code",
        "colab": {}
      },
      "source": [
        "######################### load dependencies #########################\n",
        "import os\n",
        "import io\n",
        "import re\n",
        "import warnings\n",
        "import nltk\n",
        "import time\n",
        "\n",
        "import numpy as np\n",
        "import pandas as pd\n",
        "import matplotlib.pyplot as plt\n",
        "\n",
        "\n",
        "from sklearn.feature_extraction.text import CountVectorizer, TfidfTransformer\n",
        "from sklearn.feature_extraction.text import TfidfVectorizer\n",
        "from sklearn.linear_model import LogisticRegression\n",
        "from sklearn.metrics import classification_report,confusion_matrix,accuracy_score\n",
        "from sklearn.model_selection import train_test_split\n",
        "from sklearn.preprocessing import LabelEncoder\n",
        "from sklearn import svm\n",
        "\n",
        "\n",
        "from nltk.tokenize.toktok import ToktokTokenizer\n",
        "from nltk.corpus import stopwords\n",
        "from bs4 import BeautifulSoup\n",
        "from google.colab import files\n"
      ],
      "execution_count": 0,
      "outputs": []
    },
    {
      "cell_type": "code",
      "metadata": {
        "id": "rawEyNUAvhOV",
        "colab_type": "code",
        "colab": {}
      },
      "source": [
        "from sklearn.svm import LinearSVC"
      ],
      "execution_count": 0,
      "outputs": []
    },
    {
      "cell_type": "code",
      "metadata": {
        "id": "HtfZmCYe2MSj",
        "colab_type": "code",
        "colab": {}
      },
      "source": [
        "from sklearn.naive_bayes import MultinomialNB"
      ],
      "execution_count": 0,
      "outputs": []
    },
    {
      "cell_type": "code",
      "metadata": {
        "id": "QRItEBFIZKI2",
        "colab_type": "code",
        "colab": {}
      },
      "source": [
        "from sklearn.ensemble import VotingClassifier"
      ],
      "execution_count": 0,
      "outputs": []
    },
    {
      "cell_type": "code",
      "metadata": {
        "id": "WAOnA0Z5g7s1",
        "colab_type": "code",
        "colab": {}
      },
      "source": [
        "from scipy.stats import mode"
      ],
      "execution_count": 0,
      "outputs": []
    },
    {
      "cell_type": "code",
      "metadata": {
        "id": "RI9yKu2tbUuF",
        "colab_type": "code",
        "outputId": "100c35de-9463-46ab-bff9-6f50c1284f5b",
        "colab": {
          "resources": {
            "http://localhost:8080/nbextensions/google.colab/files.js": {
              "data": "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",
              "ok": true,
              "headers": [
                [
                  "content-type",
                  "application/javascript"
                ]
              ],
              "status": 200,
              "status_text": ""
            }
          },
          "base_uri": "https://localhost:8080/",
          "height": 75
        }
      },
      "source": [
        "######################### upload dataset #########################\n",
        "uploaded = files.upload()"
      ],
      "execution_count": 0,
      "outputs": [
        {
          "output_type": "display_data",
          "data": {
            "text/html": [
              "\n",
              "     <input type=\"file\" id=\"files-5552ee74-7f80-41f6-9f64-ced5cbe532b4\" name=\"files[]\" multiple disabled />\n",
              "     <output id=\"result-5552ee74-7f80-41f6-9f64-ced5cbe532b4\">\n",
              "      Upload widget is only available when the cell has been executed in the\n",
              "      current browser session. Please rerun this cell to enable.\n",
              "      </output>\n",
              "      <script src=\"/nbextensions/google.colab/files.js\"></script> "
            ],
            "text/plain": [
              "<IPython.core.display.HTML object>"
            ]
          },
          "metadata": {
            "tags": []
          }
        },
        {
          "output_type": "stream",
          "text": [
            "Saving IMDB Dataset.csv to IMDB Dataset.csv\n"
          ],
          "name": "stdout"
        }
      ]
    },
    {
      "cell_type": "code",
      "metadata": {
        "id": "GGEsiEbObbbV",
        "colab_type": "code",
        "outputId": "a101cd3c-1ef9-481d-b82f-38600bf3fb30",
        "colab": {
          "base_uri": "https://localhost:8080/",
          "height": 202
        }
      },
      "source": [
        "######################### load data #########################\n",
        "# import data\n",
        "imdb_data = pd.read_csv(io.BytesIO(uploaded['IMDB Dataset.csv']))\n",
        "\n",
        "# data description\n",
        "imdb_data.describe()\n",
        "\n",
        "# value counts\n",
        "imdb_data['sentiment'].value_counts()\n",
        "\n",
        "# print head (top 5 rows)\n",
        "imdb_data.head(5)"
      ],
      "execution_count": 0,
      "outputs": [
        {
          "output_type": "execute_result",
          "data": {
            "text/html": [
              "<div>\n",
              "<style scoped>\n",
              "    .dataframe tbody tr th:only-of-type {\n",
              "        vertical-align: middle;\n",
              "    }\n",
              "\n",
              "    .dataframe tbody tr th {\n",
              "        vertical-align: top;\n",
              "    }\n",
              "\n",
              "    .dataframe thead th {\n",
              "        text-align: right;\n",
              "    }\n",
              "</style>\n",
              "<table border=\"1\" class=\"dataframe\">\n",
              "  <thead>\n",
              "    <tr style=\"text-align: right;\">\n",
              "      <th></th>\n",
              "      <th>review</th>\n",
              "      <th>sentiment</th>\n",
              "    </tr>\n",
              "  </thead>\n",
              "  <tbody>\n",
              "    <tr>\n",
              "      <th>0</th>\n",
              "      <td>One of the other reviewers has mentioned that ...</td>\n",
              "      <td>positive</td>\n",
              "    </tr>\n",
              "    <tr>\n",
              "      <th>1</th>\n",
              "      <td>A wonderful little production. &lt;br /&gt;&lt;br /&gt;The...</td>\n",
              "      <td>positive</td>\n",
              "    </tr>\n",
              "    <tr>\n",
              "      <th>2</th>\n",
              "      <td>I thought this was a wonderful way to spend ti...</td>\n",
              "      <td>positive</td>\n",
              "    </tr>\n",
              "    <tr>\n",
              "      <th>3</th>\n",
              "      <td>Basically there's a family where a little boy ...</td>\n",
              "      <td>negative</td>\n",
              "    </tr>\n",
              "    <tr>\n",
              "      <th>4</th>\n",
              "      <td>Petter Mattei's \"Love in the Time of Money\" is...</td>\n",
              "      <td>positive</td>\n",
              "    </tr>\n",
              "  </tbody>\n",
              "</table>\n",
              "</div>"
            ],
            "text/plain": [
              "                                              review sentiment\n",
              "0  One of the other reviewers has mentioned that ...  positive\n",
              "1  A wonderful little production. <br /><br />The...  positive\n",
              "2  I thought this was a wonderful way to spend ti...  positive\n",
              "3  Basically there's a family where a little boy ...  negative\n",
              "4  Petter Mattei's \"Love in the Time of Money\" is...  positive"
            ]
          },
          "metadata": {
            "tags": []
          },
          "execution_count": 15
        }
      ]
    },
    {
      "cell_type": "code",
      "metadata": {
        "id": "-SdmBnljqFYm",
        "colab_type": "code",
        "colab": {}
      },
      "source": [
        "# encode labels [\"positive\", \"negative\"] to [0,1]\n",
        "le = LabelEncoder()\n",
        "imdb_data['sentiment'] = le.fit_transform(imdb_data.sentiment)"
      ],
      "execution_count": 0,
      "outputs": []
    },
    {
      "cell_type": "code",
      "metadata": {
        "id": "1tHb-D_EcQyh",
        "colab_type": "code",
        "outputId": "9f9fc2e8-61bd-41c3-90ca-010393754e3c",
        "colab": {
          "base_uri": "https://localhost:8080/",
          "height": 52
        }
      },
      "source": [
        "#########################  Split the dataset in the proportion of 4:1  #########################\n",
        "# i.e 80% training data and 20% testing data\n",
        "# create training and testing vars\n",
        "X_train, X_test, y_train, y_test = train_test_split(imdb_data['review'], imdb_data['sentiment'], test_size=0.2)\n",
        "# dimensions of training data\n",
        "print(X_train.shape, y_train.shape)\n",
        "# dimensions of testing data\n",
        "print(X_test.shape, y_test.shape)"
      ],
      "execution_count": 0,
      "outputs": [
        {
          "output_type": "stream",
          "text": [
            "(40000,) (40000,)\n",
            "(10000,) (10000,)\n"
          ],
          "name": "stdout"
        }
      ]
    },
    {
      "cell_type": "code",
      "metadata": {
        "id": "uUMjFqqXd1UD",
        "colab_type": "code",
        "outputId": "4d228a28-bde1-42d2-8722-7886b5db6fed",
        "colab": {
          "base_uri": "https://localhost:8080/",
          "height": 52
        }
      },
      "source": [
        "#########################  Clean Data and preprocess  #########################\n",
        "# Tokenization of text\n",
        "tokenizer = ToktokTokenizer()\n",
        "# Setting English stopwords\n",
        "nltk.download('stopwords')\n",
        "stopword_list = nltk.corpus.stopwords.words('english')"
      ],
      "execution_count": 0,
      "outputs": [
        {
          "output_type": "stream",
          "text": [
            "[nltk_data] Downloading package stopwords to /root/nltk_data...\n",
            "[nltk_data]   Unzipping corpora/stopwords.zip.\n"
          ],
          "name": "stdout"
        }
      ]
    },
    {
      "cell_type": "code",
      "metadata": {
        "id": "Lx4UXRBwjeKK",
        "colab_type": "code",
        "colab": {}
      },
      "source": [
        "# Removing the html strips\n",
        "def strip_html(text):\n",
        "    soup = BeautifulSoup(text, \"html.parser\")\n",
        "    return soup.get_text()\n",
        "\n",
        "\n",
        "# Removing the square brackets\n",
        "\n",
        "\n",
        "def remove_between_square_brackets(text):\n",
        "    return re.sub('\\[[^]]*\\]', '', text)\n",
        "\n",
        "\n",
        "# Removing the noisy text\n",
        "\n",
        "\n",
        "def denoise_text(text):\n",
        "    text = strip_html(text)\n",
        "    text = remove_between_square_brackets(text)\n",
        "    return text\n",
        "\n",
        "# Apply function on review column\n",
        "\n",
        "\n",
        "imdb_data['review'] = imdb_data['review'].apply(denoise_text)"
      ],
      "execution_count": 0,
      "outputs": []
    },
    {
      "cell_type": "code",
      "metadata": {
        "id": "7syR7ygFjieV",
        "colab_type": "code",
        "colab": {}
      },
      "source": [
        "def remove_special_characters(text, remove_digits=True):\n",
        "    pattern = r'[^a-zA-z0-9\\s]'\n",
        "    text = re.sub(pattern, '', text)\n",
        "    return text\n",
        "\n",
        "# Apply function on review column\n",
        "imdb_data['review'] = imdb_data['review'].apply(remove_special_characters)"
      ],
      "execution_count": 0,
      "outputs": []
    },
    {
      "cell_type": "code",
      "metadata": {
        "id": "sJElduUmjle9",
        "colab_type": "code",
        "colab": {}
      },
      "source": [
        "# Stemming the text\n",
        "def simple_stemmer(text):\n",
        "    ps = nltk.porter.PorterStemmer()\n",
        "    text = ' '.join([ps.stem(word) for word in text.split()])\n",
        "    return text\n",
        "\n",
        "# Apply function on review column\n",
        "imdb_data['review'] = imdb_data['review'].apply(simple_stemmer)"
      ],
      "execution_count": 0,
      "outputs": []
    },
    {
      "cell_type": "code",
      "metadata": {
        "id": "eg3OmTUnjuz0",
        "colab_type": "code",
        "outputId": "0d96d7a2-8a5b-4c2a-d93d-7630d83946cf",
        "colab": {
          "base_uri": "https://localhost:8080/",
          "height": 55
        }
      },
      "source": [
        "# set stopwords to english\n",
        "stop = set(stopwords.words('english'))\n",
        "print(stop)\n",
        "\n",
        "# removing the stopwords\n",
        "def remove_stopwords(text, is_lower_case=False):\n",
        "    tokens = tokenizer.tokenize(text)\n",
        "    tokens = [token.strip() for token in tokens]\n",
        "    if is_lower_case:\n",
        "        filtered_tokens = [token for token in tokens if token not in stopword_list]\n",
        "    else:\n",
        "        filtered_tokens = [token for token in tokens if token.lower() not in stopword_list]\n",
        "    filtered_text = ' '.join(filtered_tokens)\n",
        "    return filtered_text\n",
        "\n",
        "# Apply function on review column\n",
        "imdb_data['review'] = imdb_data['review'].apply(remove_stopwords)"
      ],
      "execution_count": 0,
      "outputs": [
        {
          "output_type": "stream",
          "text": [
            "{'aren', 'those', 'further', \"hasn't\", 'for', 'so', 'his', 'me', 'myself', 'once', 'couldn', 'had', 'while', 'than', 'through', 'how', \"hadn't\", 'who', \"mustn't\", \"you'd\", 'no', 'it', 'same', 'll', 'mightn', 'themselves', 'any', 'its', 'hadn', 'doesn', 'some', 'above', 'do', 'not', 'this', 'after', 'weren', 'been', \"doesn't\", 'then', 've', 'be', 'ours', 'between', 'haven', 'just', 'mustn', 'them', 'during', 'more', \"aren't\", 'too', 'himself', 'down', 'am', \"you're\", 'in', 'd', \"haven't\", 'theirs', 'what', 'when', 'shan', 'm', 'a', 'is', 'yourself', \"wouldn't\", 'can', 'again', 'yours', 'an', 'nor', 'other', 'shouldn', 'from', 'of', 'very', 'here', 'hers', 'does', 'by', 'didn', 'now', 'herself', 'and', 'yourselves', \"weren't\", 'until', 'on', 'most', 'out', 'don', \"isn't\", 'only', 'such', 'these', \"won't\", 't', 'did', 'ourselves', 'own', 'below', 'their', \"don't\", 'should', 'won', 'about', 'y', 'off', 'they', 'where', \"shouldn't\", 'him', 'itself', 'which', 're', 'we', 'into', \"couldn't\", 'ma', 'having', \"mightn't\", 'isn', 'whom', 'being', 'has', 'was', 'as', 's', \"shan't\", 'all', 'under', 'have', 'her', 'she', 'with', 'but', 'to', \"didn't\", 'up', 'i', 'will', 'our', 'are', \"you've\", \"should've\", 'few', 'needn', 'that', 'were', 'before', 'against', 'why', 'you', 'doing', 'hasn', 'wasn', 'there', \"needn't\", 'both', 'wouldn', 'each', 'because', 'ain', 'your', 'at', \"wasn't\", 'or', 'the', \"it's\", 'my', 'o', \"you'll\", \"that'll\", 'if', 'over', 'he', \"she's\"}\n"
          ],
          "name": "stdout"
        }
      ]
    },
    {
      "cell_type": "markdown",
      "metadata": {
        "id": "ALO9uv8Kmgmw",
        "colab_type": "text"
      },
      "source": [
        "######################### Preprocessing #########################\n",
        "\n",
        "> Indented block\n",
        "\n",
        "\n"
      ]
    },
    {
      "cell_type": "markdown",
      "metadata": {
        "id": "QeQDo13Bmgjj",
        "colab_type": "text"
      },
      "source": [
        ""
      ]
    },
    {
      "cell_type": "code",
      "metadata": {
        "id": "jvI3Qsocj0At",
        "colab_type": "code",
        "colab": {}
      },
      "source": [
        "######################### Countvectarization(with monograms) #########################\n",
        "# if this has an error remove \"min_df=0,max_df=1,binary=False\"\n",
        "basic_cv = CountVectorizer(\n",
        "    stop_words='english', min_df=0,max_df=1,binary=False)\n",
        "# transformed train reviews\n",
        "basic_cv_train_reviews = basic_cv.fit_transform(X_train)\n",
        "# transformed test reviews\n",
        "basic_cv_test_reviews = basic_cv.transform(X_test)"
      ],
      "execution_count": 0,
      "outputs": []
    },
    {
      "cell_type": "code",
      "metadata": {
        "id": "hVCzE6aFq0S8",
        "colab_type": "code",
        "colab": {}
      },
      "source": [
        "######################### Countvectarization(with n-grams) #########################\n",
        "ngrams_cv=CountVectorizer(\n",
        "    stop_words='english', min_df=0,max_df=1,binary=False,ngram_range=(1,3))\n",
        "#transformed train reviews\n",
        "ngrams_cv_train_reviews=ngrams_cv.fit_transform(X_train)\n",
        "#transformed test reviews\n",
        "ngrams_cv_test_reviews=ngrams_cv.transform(X_test)"
      ],
      "execution_count": 0,
      "outputs": []
    },
    {
      "cell_type": "code",
      "metadata": {
        "id": "4VmRXltAsMD3",
        "colab_type": "code",
        "colab": {}
      },
      "source": [
        "######################### TfidfVectorization(with monograms) #########################\n",
        "basic_tfidf = TfidfVectorizer(max_df=0.5, min_df=2,\n",
        "                                   stop_words='english')\n",
        "# transformed train reviews\n",
        "basic_tf_train_reviews = basic_tfidf.fit_transform(X_train)\n",
        "# transformed test reviews\n",
        "basic_tf_test_reviews = basic_tfidf.transform(X_test)"
      ],
      "execution_count": 0,
      "outputs": []
    },
    {
      "cell_type": "code",
      "metadata": {
        "id": "9o0-mM_du0XB",
        "colab_type": "code",
        "colab": {}
      },
      "source": [
        "######################### TfidfVectorization(with n-grams) #########################\n",
        "ngrams_tfidf = TfidfVectorizer(max_df=0.5, min_df=2,\n",
        "                                   stop_words='english', ngram_range=(1,3))\n",
        "# transformed train reviews\n",
        "ngrams_tf_train_reviews = ngrams_tfidf.fit_transform(X_train)\n",
        "# transformed test reviews\n",
        "ngrams_tf_test_reviews = ngrams_tfidf.transform(X_test)"
      ],
      "execution_count": 0,
      "outputs": []
    },
    {
      "cell_type": "markdown",
      "metadata": {
        "id": "RXw--NmSyE6y",
        "colab_type": "text"
      },
      "source": [
        "######################### Logistic Regression #########################\n"
      ]
    },
    {
      "cell_type": "code",
      "metadata": {
        "id": "r32ldUOjyPZl",
        "colab_type": "code",
        "outputId": "03766731-1a1c-4531-f22f-9b126e5da4b6",
        "colab": {
          "base_uri": "https://localhost:8080/",
          "height": 208
        }
      },
      "source": [
        "######################### Logistic Regression with Count Vectorization (mono) #########################\n",
        "# training the model\n",
        "lr_base_cv = LogisticRegression(penalty='l2', solver=\"sag\", random_state=0, max_iter=2000)\n",
        "# Fitting the model \n",
        "lr_bow = lr_base_cv.fit(basic_cv_train_reviews, y_train)\n",
        "\n",
        "# Predicting the model \n",
        "lr_bow_predict=lr_base_cv.predict(basic_cv_test_reviews)\n",
        "print(lr_bow_predict)\n",
        "# Accuracy score\n",
        "lr_accuracy = accuracy_score(y_test, lr_bow_predict)\n",
        "print(\"lr_accuracy :\", lr_accuracy)\n",
        "# Classification report\n",
        "lr_bow_report = classification_report(y_test, lr_bow_predict)\n",
        "print(lr_bow_report)"
      ],
      "execution_count": 0,
      "outputs": [
        {
          "output_type": "stream",
          "text": [
            "[0 0 0 ... 0 0 0]\n",
            "lr_accuracy : 0.5354\n",
            "              precision    recall  f1-score   support\n",
            "\n",
            "           0       0.52      0.87      0.65      4970\n",
            "           1       0.62      0.20      0.31      5030\n",
            "\n",
            "    accuracy                           0.54     10000\n",
            "   macro avg       0.57      0.54      0.48     10000\n",
            "weighted avg       0.57      0.54      0.48     10000\n",
            "\n"
          ],
          "name": "stdout"
        }
      ]
    },
    {
      "cell_type": "code",
      "metadata": {
        "id": "1p025Hlb0bTP",
        "colab_type": "code",
        "outputId": "aa3d82ec-f2fd-4280-c042-4e8c82f345f6",
        "colab": {
          "base_uri": "https://localhost:8080/",
          "height": 208
        }
      },
      "source": [
        "######################### Logistic Regression with Count Vectorization (n grams) #########################\n",
        "# training the model\n",
        "lr = LogisticRegression(penalty='l2', solver=\"sag\", random_state=0, max_iter=2000)\n",
        "# Fitting the model \n",
        "lr_ngram = lr.fit(ngrams_cv_train_reviews, y_train)\n",
        "\n",
        "# Predicting the model \n",
        "lr_ngram_predict=lr.predict(ngrams_cv_test_reviews)\n",
        "print(lr_ngram_predict)\n",
        "# Accuracy score\n",
        "lr_ngram_score = accuracy_score(y_test, lr_ngram_predict)\n",
        "print(\"lr_ngram_score :\", lr_ngram_score)\n",
        "# Classification report\n",
        "lr_ngram_report = classification_report(y_test, lr_ngram_predict)\n",
        "print(lr_ngram_report)\n"
      ],
      "execution_count": 0,
      "outputs": [
        {
          "output_type": "stream",
          "text": [
            "[0 0 0 ... 0 0 0]\n",
            "lr_ngram_score : 0.5838\n",
            "              precision    recall  f1-score   support\n",
            "\n",
            "           0       0.55      0.98      0.70      4970\n",
            "           1       0.91      0.19      0.32      5030\n",
            "\n",
            "    accuracy                           0.58     10000\n",
            "   macro avg       0.73      0.59      0.51     10000\n",
            "weighted avg       0.73      0.58      0.51     10000\n",
            "\n"
          ],
          "name": "stdout"
        }
      ]
    },
    {
      "cell_type": "code",
      "metadata": {
        "id": "lgaHY7uD1X9Q",
        "colab_type": "code",
        "outputId": "d37a17f3-567a-42d7-a7f7-9f72302c065e",
        "colab": {
          "base_uri": "https://localhost:8080/",
          "height": 208
        }
      },
      "source": [
        "######################### Logistic Regression with Tf-IDF (mono grams) #########################\n",
        "# training the model\n",
        "lr_base_tfid = LogisticRegression(penalty='l2', solver=\"sag\", random_state=0, max_iter=2000)\n",
        "# Fitting the model \n",
        "lr_basictf = lr_base_tfid.fit(basic_tf_train_reviews, y_train)\n",
        "\n",
        "# Predicting the model \n",
        "lr_basictf_predict=lr_base_tfid.predict(basic_tf_test_reviews)\n",
        "print(lr_basictf_predict)\n",
        "# Accuracy score\n",
        "lr_basictf_score = accuracy_score(y_test, lr_basictf_predict)\n",
        "print(\"lr_basictf_score :\", lr_basictf_score)\n",
        "# Classification report\n",
        "lr_basictf_report = classification_report(y_test, lr_basictf_predict)\n",
        "print(lr_basictf_report)\n"
      ],
      "execution_count": 0,
      "outputs": [
        {
          "output_type": "stream",
          "text": [
            "[0 0 1 ... 0 0 1]\n",
            "lr_basictf_score : 0.8949\n",
            "              precision    recall  f1-score   support\n",
            "\n",
            "           0       0.90      0.88      0.89      4970\n",
            "           1       0.89      0.91      0.90      5030\n",
            "\n",
            "    accuracy                           0.89     10000\n",
            "   macro avg       0.90      0.89      0.89     10000\n",
            "weighted avg       0.90      0.89      0.89     10000\n",
            "\n"
          ],
          "name": "stdout"
        }
      ]
    },
    {
      "cell_type": "code",
      "metadata": {
        "id": "ATQXJs0se8G9",
        "colab_type": "code",
        "outputId": "e257438f-0a6d-4da3-fada-85a46aa65324",
        "colab": {
          "base_uri": "https://localhost:8080/",
          "height": 208
        }
      },
      "source": [
        "######################### Logistic Regression with Tf-IDF (with n grams) #########################\n",
        "# training the model\n",
        "lr_ngrams_tf = LogisticRegression(penalty='l2', solver=\"sag\", random_state=0, max_iter=2000)\n",
        "# Fitting the model \n",
        "lr_ngramtf = lr_ngrams_tf.fit(ngrams_tf_train_reviews, y_train)\n",
        "\n",
        "# Predicting the model \n",
        "lr_ngramtf_predict=lr_ngrams_tf.predict(ngrams_tf_test_reviews)\n",
        "print(lr_ngramtf_predict)\n",
        "# Accuracy score\n",
        "lr_ngramtf_score = accuracy_score(y_test, lr_ngramtf_predict)\n",
        "print(\"lr_ngramtf_score :\", lr_ngramtf_score)\n",
        "# Classification report\n",
        "lr_ngramtf_report = classification_report(y_test, lr_ngramtf_predict)\n",
        "print(lr_ngramtf_report)\n"
      ],
      "execution_count": 0,
      "outputs": [
        {
          "output_type": "stream",
          "text": [
            "[0 0 1 ... 0 0 1]\n",
            "lr_ngramtf_score : 0.8936\n",
            "              precision    recall  f1-score   support\n",
            "\n",
            "           0       0.90      0.88      0.89      4970\n",
            "           1       0.89      0.90      0.90      5030\n",
            "\n",
            "    accuracy                           0.89     10000\n",
            "   macro avg       0.89      0.89      0.89     10000\n",
            "weighted avg       0.89      0.89      0.89     10000\n",
            "\n"
          ],
          "name": "stdout"
        }
      ]
    },
    {
      "cell_type": "markdown",
      "metadata": {
        "id": "oJnHI2kqfy94",
        "colab_type": "text"
      },
      "source": [
        "######################### Naive Bayes #########################"
      ]
    },
    {
      "cell_type": "code",
      "metadata": {
        "id": "-n8jet47f53s",
        "colab_type": "code",
        "outputId": "2f443b51-9958-4008-8edc-049dd4eaa0cb",
        "colab": {
          "base_uri": "https://localhost:8080/",
          "height": 191
        }
      },
      "source": [
        "######################### Naive Bayes with Count vectorization (with mono grams) #########################\n",
        "\n",
        "nb_cv = MultinomialNB()\n",
        "nb_cv.fit(basic_cv_train_reviews, y_train)\n",
        "prediction_nb_cv = nb_cv.predict(basic_cv_test_reviews)\n",
        "\n",
        "# accuracy score\n",
        "base_cv_nb = accuracy_score(y_test, prediction_nb_cv)\n",
        "print(\"nb_base_cv_accuracy :\", base_cv_nb)\n",
        "# report\n",
        "base_cv_nb_report = classification_report(y_test, prediction_nb_cv)\n",
        "print(base_cv_nb_report)"
      ],
      "execution_count": 0,
      "outputs": [
        {
          "output_type": "stream",
          "text": [
            "nb_base_cv_accuracy : 0.5527\n",
            "              precision    recall  f1-score   support\n",
            "\n",
            "           0       0.53      0.89      0.67      4998\n",
            "           1       0.66      0.22      0.33      5002\n",
            "\n",
            "    accuracy                           0.55     10000\n",
            "   macro avg       0.60      0.55      0.50     10000\n",
            "weighted avg       0.60      0.55      0.50     10000\n",
            "\n"
          ],
          "name": "stdout"
        }
      ]
    },
    {
      "cell_type": "code",
      "metadata": {
        "id": "jKS_SOoxgiPN",
        "colab_type": "code",
        "outputId": "f3beaa56-5926-450c-fde4-40831ea85629",
        "colab": {
          "base_uri": "https://localhost:8080/",
          "height": 191
        }
      },
      "source": [
        "######################### Naive Bayes with Count Vectorization (with n grams) #########################\n",
        "nb_cvn = MultinomialNB()\n",
        "nb_cvn.fit(ngrams_cv_train_reviews, y_train)\n",
        "prediction_nb_cvn = nb_cvn.predict(ngrams_cv_test_reviews)\n",
        "\n",
        "# accuracy score\n",
        "ngrams_cv_nb = accuracy_score(y_test, prediction_nb_cvn)\n",
        "print(\"nb_cvn_accuracy :\", ngrams_cv_nb)\n",
        "\n",
        "# report\n",
        "ngrams_cv_nb_report = classification_report(y_test, prediction_nb_cvn)\n",
        "print(ngrams_cv_svm_report)"
      ],
      "execution_count": 0,
      "outputs": [
        {
          "output_type": "stream",
          "text": [
            "nb_cvn_accuracy : 0.7435\n",
            "              precision    recall  f1-score   support\n",
            "\n",
            "           0       0.50      1.00      0.67      4998\n",
            "           1       0.95      0.01      0.02      5002\n",
            "\n",
            "    accuracy                           0.51     10000\n",
            "   macro avg       0.73      0.51      0.35     10000\n",
            "weighted avg       0.73      0.51      0.35     10000\n",
            "\n"
          ],
          "name": "stdout"
        }
      ]
    },
    {
      "cell_type": "code",
      "metadata": {
        "id": "jVJ7CI0vgmMs",
        "colab_type": "code",
        "outputId": "4bb79fbc-2cdc-4f89-a401-cfaa773cf423",
        "colab": {
          "base_uri": "https://localhost:8080/",
          "height": 191
        }
      },
      "source": [
        "######################### Naive Bayes with Tf-IDF (with mono grams) #########################\n",
        "nb_tf = MultinomialNB()\n",
        "nb_tf.fit(basic_tf_train_reviews, y_train)\n",
        "prediction_nb_tf = nb_tf.predict(basic_tf_test_reviews)\n",
        "\n",
        "# accuracy score\n",
        "base_tfid_cv_nb = accuracy_score(y_test, prediction_nb_tf)\n",
        "print(\"nb_tfid_n_accuracy :\", base_tfid_cv_nb)\n",
        "\n",
        "# report\n",
        "report_ngrams_tfid_nb = classification_report(y_test, prediction_nb_tf)\n",
        "print(report_ngrams_tfid_nb)"
      ],
      "execution_count": 0,
      "outputs": [
        {
          "output_type": "stream",
          "text": [
            "nb_tfid_n_accuracy : 0.8666\n",
            "              precision    recall  f1-score   support\n",
            "\n",
            "           0       0.86      0.87      0.87      4998\n",
            "           1       0.87      0.86      0.87      5002\n",
            "\n",
            "    accuracy                           0.87     10000\n",
            "   macro avg       0.87      0.87      0.87     10000\n",
            "weighted avg       0.87      0.87      0.87     10000\n",
            "\n"
          ],
          "name": "stdout"
        }
      ]
    },
    {
      "cell_type": "code",
      "metadata": {
        "id": "djqg-YJkgtAc",
        "colab_type": "code",
        "outputId": "bdc21753-f09c-4e91-fd2a-254965e329ac",
        "colab": {
          "base_uri": "https://localhost:8080/",
          "height": 191
        }
      },
      "source": [
        "######################### Naive Bayes with Tf-IDF (with n grams) #########################\n",
        "nb_tfn = MultinomialNB()\n",
        "nb_tfn.fit(ngrams_tf_train_reviews, y_train)\n",
        "prediction_nb_tfn = nb_tfn.predict(ngrams_tf_test_reviews)\n",
        "\n",
        "# accuracy score\n",
        "ngrams_tfid_cv_nb = accuracy_score(y_test, prediction_nb_tfn)\n",
        "print(\"nb_tfid_base_accuracy :\", ngrams_tfid_cv_nb)\n",
        "\n",
        "# report\n",
        "report_ngrams_tfid_nb = classification_report(y_test, prediction_nb_tfn)\n",
        "print(report_ngrams_tfid_nb)"
      ],
      "execution_count": 0,
      "outputs": [
        {
          "output_type": "stream",
          "text": [
            "nb_tfid_base_accuracy : 0.8863\n",
            "              precision    recall  f1-score   support\n",
            "\n",
            "           0       0.89      0.88      0.89      4998\n",
            "           1       0.88      0.89      0.89      5002\n",
            "\n",
            "    accuracy                           0.89     10000\n",
            "   macro avg       0.89      0.89      0.89     10000\n",
            "weighted avg       0.89      0.89      0.89     10000\n",
            "\n"
          ],
          "name": "stdout"
        }
      ]
    },
    {
      "cell_type": "markdown",
      "metadata": {
        "id": "FSmEnkUbgxAy",
        "colab_type": "text"
      },
      "source": [
        "######################### Support Vector Machines #########################"
      ]
    },
    {
      "cell_type": "code",
      "metadata": {
        "id": "XAvF0FHcg1N8",
        "colab_type": "code",
        "outputId": "77d7e5f4-5fa2-44fd-cbfc-41200a6bdf9b",
        "colab": {
          "base_uri": "https://localhost:8080/",
          "height": 191
        }
      },
      "source": [
        "######################### Support Vector Machines with Count Vectorization (with monogram) #########################\n",
        "\n",
        "# Perform classification with SVM, kernel=linear\n",
        "classifier_linear_cv = LinearSVC(random_state=0)\n",
        "classifier_linear_cv.fit(basic_cv_train_reviews, y_train)\n",
        "prediction_linear_cv = classifier_linear_cv.predict(basic_cv_test_reviews)\n",
        "\n",
        "# accuracy score\n",
        "base_cv_svm = accuracy_score(y_test, prediction_linear_cv)\n",
        "print(\"base_cv_svm_accuracy :\", base_cv_svm)\n",
        "# report\n",
        "base_cv_svm_report = classification_report(y_test, prediction_linear_cv)\n",
        "print(base_cv_svm_report)"
      ],
      "execution_count": 0,
      "outputs": [
        {
          "output_type": "stream",
          "text": [
            "base_cv_svm_accuracy : 0.5492\n",
            "              precision    recall  f1-score   support\n",
            "\n",
            "           0       0.53      0.88      0.66      4998\n",
            "           1       0.64      0.22      0.33      5002\n",
            "\n",
            "    accuracy                           0.55     10000\n",
            "   macro avg       0.59      0.55      0.50     10000\n",
            "weighted avg       0.59      0.55      0.49     10000\n",
            "\n"
          ],
          "name": "stdout"
        }
      ]
    },
    {
      "cell_type": "code",
      "metadata": {
        "id": "-ftv6RC0g8Pi",
        "colab_type": "code",
        "outputId": "9ef0bcaf-c529-41dc-b368-c5e00a32e12a",
        "colab": {
          "base_uri": "https://localhost:8080/",
          "height": 191
        }
      },
      "source": [
        "######################### Support Vector Machines with Count Vectorization (with n grams) #########################\n",
        "\n",
        "# Perform classification with SVM, kernel=linear\n",
        "classifier_linear_cvn = LinearSVC(random_state=0)\n",
        "classifier_linear_cvn.fit(ngrams_cv_train_reviews, y_train)\n",
        "prediction_linear_cvn = classifier_linear_cvn.predict(ngrams_cv_test_reviews)\n",
        "\n",
        "# accuracy score\n",
        "ngrams_cv_svm = accuracy_score(y_test, prediction_linear_cvn)\n",
        "print(\"prediction_linear_cvn_accuracy :\", ngrams_cv_svm)\n",
        "\n",
        "# report\n",
        "ngrams_cv_svm_report = classification_report(y_test, prediction_linear_cvn)\n",
        "print(ngrams_cv_svm_report)"
      ],
      "execution_count": 0,
      "outputs": [
        {
          "output_type": "stream",
          "text": [
            "prediction_linear_cvn_accuracy : 0.5065\n",
            "              precision    recall  f1-score   support\n",
            "\n",
            "           0       0.50      1.00      0.67      4998\n",
            "           1       0.92      0.01      0.03      5002\n",
            "\n",
            "    accuracy                           0.51     10000\n",
            "   macro avg       0.71      0.51      0.35     10000\n",
            "weighted avg       0.71      0.51      0.35     10000\n",
            "\n"
          ],
          "name": "stdout"
        }
      ]
    },
    {
      "cell_type": "code",
      "metadata": {
        "id": "S0eoOk_JhCOZ",
        "colab_type": "code",
        "outputId": "110b2cae-cb79-4eea-ef4c-ac5bb1ae1d43",
        "colab": {
          "base_uri": "https://localhost:8080/",
          "height": 191
        }
      },
      "source": [
        "######################### Support Vector Machines with Tf-IDF (with monogram) #########################\n",
        "\n",
        "# Perform classification with SVM, kernel=linear\n",
        "classifier_linear_tf = LinearSVC(random_state=0)\n",
        "classifier_linear_tf.fit(basic_tf_train_reviews, y_train)\n",
        "prediction_linear_tf = classifier_linear_tf.predict(basic_tf_test_reviews)\n",
        "\n",
        "# accuracy score\n",
        "base_tfid_cv_svm = accuracy_score(y_test, prediction_linear_tf)\n",
        "print(\"prediction_linear_cvn_accuracy :\", base_tfid_cv_svm)\n",
        "\n",
        "# report\n",
        "report_base_tfid_svm = classification_report(y_test, prediction_linear_tf)\n",
        "print(report_base_tfid_svm)"
      ],
      "execution_count": 0,
      "outputs": [
        {
          "output_type": "stream",
          "text": [
            "prediction_linear_cvn_accuracy : 0.8937\n",
            "              precision    recall  f1-score   support\n",
            "\n",
            "           0       0.90      0.89      0.89      4998\n",
            "           1       0.89      0.90      0.89      5002\n",
            "\n",
            "    accuracy                           0.89     10000\n",
            "   macro avg       0.89      0.89      0.89     10000\n",
            "weighted avg       0.89      0.89      0.89     10000\n",
            "\n"
          ],
          "name": "stdout"
        }
      ]
    },
    {
      "cell_type": "code",
      "metadata": {
        "id": "3njvN_4BhIhq",
        "colab_type": "code",
        "outputId": "003c81f9-94fe-4f26-eb11-fcbf6c31327a",
        "colab": {
          "base_uri": "https://localhost:8080/",
          "height": 191
        }
      },
      "source": [
        "######################### Support Vector Machines with Tf-IDF (with n grams) #########################\n",
        "\n",
        "# Perform classification with SVM, kernel=linear\n",
        "classifier_linear_tfn = LinearSVC(random_state=0)\n",
        "classifier_linear_tfn.fit(ngrams_tf_train_reviews, y_train)\n",
        "prediction_linear_tfn = classifier_linear_tfn.predict(ngrams_tf_test_reviews)\n",
        "\n",
        "# accuracy score\n",
        "# accuracy score\n",
        "ngrams_tfid_cv_svm = accuracy_score(y_test, prediction_linear_tfn)\n",
        "print(\"prediction_linear_cvn_accuracy :\", ngrams_tfid_cv_svm)\n",
        "\n",
        "# report\n",
        "report_ngrams_tfid_svm = classification_report(y_test, prediction_linear_tfn)\n",
        "print(report_ngrams_tfid_svm)"
      ],
      "execution_count": 0,
      "outputs": [
        {
          "output_type": "stream",
          "text": [
            "prediction_linear_cvn_accuracy : 0.9078\n",
            "              precision    recall  f1-score   support\n",
            "\n",
            "           0       0.92      0.90      0.91      4998\n",
            "           1       0.90      0.92      0.91      5002\n",
            "\n",
            "    accuracy                           0.91     10000\n",
            "   macro avg       0.91      0.91      0.91     10000\n",
            "weighted avg       0.91      0.91      0.91     10000\n",
            "\n"
          ],
          "name": "stdout"
        }
      ]
    },
    {
      "cell_type": "markdown",
      "metadata": {
        "id": "H_eGQjwl5Jf0",
        "colab_type": "text"
      },
      "source": [
        "######################### Blending the algorihms #########################\n",
        "An approach named \"voting\" is used:\n",
        "\n",
        "\n",
        "*   https://www-sciencedirect-com.libproxy.uregina.ca/science/article/pii/S1568494616305919\n",
        "*   http://rasbt.github.io/mlxtend/user_guide/classifier/EnsembleVoteClassifier/#example-1-classifying-iris-flowers-using-different-classification-models\n",
        "\n"
      ]
    },
    {
      "cell_type": "code",
      "metadata": {
        "id": "GmO4v07U91w5",
        "colab_type": "code",
        "colab": {}
      },
      "source": [
        "#################### Blending SVM + LR + NB ####################\n",
        "def blend_using_voting_classifier(X_train, y_train, X_test, y_test):\n",
        "    lsvc = LinearSVC(random_state=0)\n",
        "    mnb = MultinomialNB()\n",
        "    lr = LogisticRegression(penalty='l2', solver=\"sag\", random_state=0, max_iter=2000)\n",
        "\n",
        "    lr.fit(X_train, y_train)\n",
        "    lsvc.fit(X_train, y_train)\n",
        "    mnb.fit(X_train, y_train)\n",
        "\n",
        "    pred1 = lsvc.predict(X_test)\n",
        "    pred2 = mnb.predict(X_test)\n",
        "    pred3 = lr.predict(X_test)\n",
        "\n",
        "    final_pred = np.array([])\n",
        "    for i in range(0,len(y_test)):\n",
        "        final_pred = np.append(final_pred, mode([pred1[i], pred2[i], pred3[i]])[0][0])\n",
        "\n",
        "    # accuracy score\n",
        "    blend_acc = accuracy_score(y_test, final_pred)\n",
        "    print(\"blend_acc :\", blend_acc)\n",
        "\n",
        "    # report\n",
        "    blend_report = classification_report(y_test, final_pred)\n",
        "    print(blend_report)"
      ],
      "execution_count": 0,
      "outputs": []
    },
    {
      "cell_type": "code",
      "metadata": {
        "id": "nG0MIQRcXPgy",
        "colab_type": "code",
        "outputId": "0d0fa328-52e1-45cd-829c-1fbdce91d8e8",
        "colab": {
          "base_uri": "https://localhost:8080/",
          "height": 191
        }
      },
      "source": [
        "################### Blending (countvectorization - monograms) ###################\n",
        "blend_using_voting_classifier(basic_cv_train_reviews, y_train, basic_cv_test_reviews, y_test)"
      ],
      "execution_count": 0,
      "outputs": [
        {
          "output_type": "stream",
          "text": [
            "blend_acc : 0.5354\n",
            "              precision    recall  f1-score   support\n",
            "\n",
            "           0       0.52      0.87      0.65      4970\n",
            "           1       0.62      0.20      0.31      5030\n",
            "\n",
            "    accuracy                           0.54     10000\n",
            "   macro avg       0.57      0.54      0.48     10000\n",
            "weighted avg       0.57      0.54      0.48     10000\n",
            "\n"
          ],
          "name": "stdout"
        }
      ]
    },
    {
      "cell_type": "code",
      "metadata": {
        "id": "b3xKCMHFiqET",
        "colab_type": "code",
        "outputId": "727672ac-79e2-4b07-eaf6-65ca1740992e",
        "colab": {
          "base_uri": "https://localhost:8080/",
          "height": 191
        }
      },
      "source": [
        "################### Blending (countvectorization - ngrams) ###################\n",
        "blend_using_voting_classifier(ngrams_cv_train_reviews, y_train, ngrams_cv_test_reviews, y_test)"
      ],
      "execution_count": 0,
      "outputs": [
        {
          "output_type": "stream",
          "text": [
            "blend_acc : 0.5835\n",
            "              precision    recall  f1-score   support\n",
            "\n",
            "           0       0.54      0.98      0.70      4970\n",
            "           1       0.92      0.19      0.31      5030\n",
            "\n",
            "    accuracy                           0.58     10000\n",
            "   macro avg       0.73      0.59      0.51     10000\n",
            "weighted avg       0.73      0.58      0.51     10000\n",
            "\n"
          ],
          "name": "stdout"
        }
      ]
    },
    {
      "cell_type": "code",
      "metadata": {
        "id": "Q1xKDHKeiqbb",
        "colab_type": "code",
        "outputId": "fd170ba7-fa97-4519-83d0-0ec860cc11ea",
        "colab": {
          "base_uri": "https://localhost:8080/",
          "height": 191
        }
      },
      "source": [
        "################### Blending (Tf-IDF - monograms) ###################\n",
        "blend_using_voting_classifier(basic_tf_train_reviews, y_train, basic_tf_test_reviews, y_test)"
      ],
      "execution_count": 0,
      "outputs": [
        {
          "output_type": "stream",
          "text": [
            "blend_acc : 0.8985\n",
            "              precision    recall  f1-score   support\n",
            "\n",
            "           0       0.90      0.89      0.90      4970\n",
            "           1       0.90      0.90      0.90      5030\n",
            "\n",
            "    accuracy                           0.90     10000\n",
            "   macro avg       0.90      0.90      0.90     10000\n",
            "weighted avg       0.90      0.90      0.90     10000\n",
            "\n"
          ],
          "name": "stdout"
        }
      ]
    },
    {
      "cell_type": "code",
      "metadata": {
        "id": "DzgDuH8kiqzc",
        "colab_type": "code",
        "outputId": "bdb83c36-d052-4c68-e967-351b344efa8a",
        "colab": {
          "base_uri": "https://localhost:8080/",
          "height": 191
        }
      },
      "source": [
        "################### Blending (Tf-IDF - n-grams) ###################\n",
        "blend_using_voting_classifier(ngrams_tf_train_reviews, y_train, ngrams_tf_test_reviews, y_test)"
      ],
      "execution_count": 0,
      "outputs": [
        {
          "output_type": "stream",
          "text": [
            "blend_acc : 0.9\n",
            "              precision    recall  f1-score   support\n",
            "\n",
            "           0       0.91      0.89      0.90      4970\n",
            "           1       0.90      0.91      0.90      5030\n",
            "\n",
            "    accuracy                           0.90     10000\n",
            "   macro avg       0.90      0.90      0.90     10000\n",
            "weighted avg       0.90      0.90      0.90     10000\n",
            "\n"
          ],
          "name": "stdout"
        }
      ]
    }
  ]
}